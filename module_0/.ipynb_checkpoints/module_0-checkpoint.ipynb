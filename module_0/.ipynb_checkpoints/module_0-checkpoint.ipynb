{
 "cells": [
  {
   "cell_type": "code",
   "execution_count": 65,
   "metadata": {},
   "outputs": [
    {
     "name": "stdout",
     "output_type": "stream",
     "text": [
      "Пусть программа загадает число от 1 до 1000\n",
      "\n",
      "Было загадано число 446. Угадала за 9 раз(а)!\n",
      "\n",
      "Среднее количество попыток - 8.\n"
     ]
    }
   ],
   "source": [
    "import numpy as np\n",
    "\n",
    "def predict(max_number, output_result=False): \n",
    "    \n",
    "    \"\"\"Функция загадывает любое число от 1 до введенного значения \n",
    "    max_number и пытается его отгадать. \n",
    "    Определяет, в каком диапазоне чисел находится загаданное число\n",
    "    и с каждой попыткой формирует более точный диапазон.\n",
    "    \n",
    "    Возвращает число попыток - attempt.\n",
    "    \n",
    "    Аргумент output_result отвечает за вывод информации - какое число было загадано и \n",
    "    как быстро его угадала.\n",
    "    \n",
    "    \"\"\"\n",
    "    number = np.random.randint(1, max_number+1)\n",
    "    \n",
    "    min_range = 0\n",
    "    max_range = max_number + 1\n",
    "    \n",
    "    \"\"\"Определяем диапозон чисел, в котором находится число\"\"\"\n",
    "\n",
    "    for attempt in range(1, max_number):        \n",
    "        \n",
    "        guess = int((min_range + max_range)/2) #Определяем середину диапазон чисел.\n",
    "        \n",
    "        \"\"\"Формируем новый диапазон чисел в зависимости от ответа\"\"\"\n",
    "\n",
    "        if number == guess: \n",
    "            break\n",
    "        elif number > guess:\n",
    "            min_range = guess\n",
    "        else: \n",
    "            max_range = guess\n",
    "            \n",
    "    if output_result: print(\"\\nБыло загадано число {}. Угадала за {} раз(а)!\".format(number, attempt))\n",
    "        \n",
    "    return attempt\n",
    "\n",
    "\n",
    "def score_game(game): \n",
    "    \n",
    "    \"\"\"Функция для подсчета среднего кол-ва попыток. \n",
    "    Возвращает среднее количество попыток - score\n",
    "    \"\"\"\n",
    "    \n",
    "    count = []\n",
    "    \n",
    "    \"\"\"Фиксируем RANDOM SEED, чтобы эксперимент был воспроизводим!\"\"\"\n",
    "    \n",
    "    np.random.seed(1)  \n",
    "    random_array = np.random.randint(1, 101, size=(1000))\n",
    "\n",
    "    for i in random_array: count.append(predict(max_number))\n",
    "    \n",
    "    score = int(np.mean(count))\n",
    "\n",
    "    return score\n",
    "\n",
    "\n",
    "max_number=int(input('Пусть программа загадает число от 1 до '))\n",
    "\n",
    "predict(max_number, output_result=True)\n",
    "\n",
    "print(\"\\nСреднее количество попыток - {}.\".format(score_game(predict)))\n",
    "\n"
   ]
  }
 ],
 "metadata": {
  "kernelspec": {
   "display_name": "Python 3",
   "language": "python",
   "name": "python3"
  },
  "language_info": {
   "codemirror_mode": {
    "name": "ipython",
    "version": 3
   },
   "file_extension": ".py",
   "mimetype": "text/x-python",
   "name": "python",
   "nbconvert_exporter": "python",
   "pygments_lexer": "ipython3",
   "version": "3.7.6"
  }
 },
 "nbformat": 4,
 "nbformat_minor": 4
}
